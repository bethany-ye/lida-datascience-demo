{
 "cells": [
  {
   "cell_type": "markdown",
   "id": "4b468992",
   "metadata": {},
   "source": [
    "\n",
    "# Bank Marketing Campaign Analysis\n",
    "\n",
    "This notebook explores and analyzes a dataset related to direct marketing campaigns by a banking institution. The target variable indicates whether a customer subscribed to a term deposit product. The project includes:\n",
    "\n",
    "- Data loading and inspection\n",
    "- Data cleaning and preprocessing\n",
    "- Exploratory data analysis\n",
    "- Classification using machine learning models (e.g., logistic regression, decision trees)\n",
    "- Insights and recommendations\n",
    "\n",
    "_Originally developed as part of a university assignment._\n",
    "\n",
    "## Dataset Description\n",
    "- The dataset contains 17 input features including customer information, campaign data, and historical interactions.\n",
    "- The output variable (`y`) indicates whether the client subscribed (`yes`) or not (`no`) to a term deposit.\n",
    "\n"
   ]
  },
  {
   "cell_type": "code",
   "execution_count": null,
   "metadata": {
    "id": "ut63Fm7AFyc8"
   },
   "outputs": [],
   "source": [
    "!pip install bnlearn"
   ]
  },
  {
   "cell_type": "code",
   "execution_count": null,
   "metadata": {
    "id": "5DPJBtZhF4qH"
   },
   "outputs": [],
   "source": [
    "!pip install pymc3==3.10  #issue fixed for version 3\n",
    "!pip install --upgrade numpy==1.20.3\n",
    "!pip install --upgrade arviz==0.11.0"
   ]
  },
  {
   "cell_type": "code",
   "execution_count": null,
   "metadata": {
    "id": "zOaQ2RIBkhVL"
   },
   "outputs": [],
   "source": [
    "import pandas as pd\n",
    "import numpy as np\n",
    "from sklearn.model_selection import train_test_split\n",
    "from sklearn.model_selection import cross_val_score\n",
    "from sklearn.ensemble import RandomForestClassifier\n",
    "from sklearn.linear_model import LogisticRegression\n",
    "from sklearn.datasets import load_iris\n",
    "#from sklearn.naive_bayes import CategoricalNB\n",
    "from sklearn import datasets\n",
    "from sklearn import svm\n",
    "from sklearn import metrics\n",
    "from sklearn.metrics import roc_auc_score\n",
    "from datetime import datetime\n",
    "from sklearn.metrics import classification_report\n",
    "from sklearn.preprocessing import StandardScaler"
   ]
  },
  {
   "cell_type": "code",
   "execution_count": null,
   "metadata": {
    "colab": {
     "base_uri": "https://localhost:8080/"
    },
    "id": "hpN_pGhjMt_9",
    "outputId": "114d61ea-9a4a-48fc-e586-61cebdd75e36"
   },
   "outputs": [],
   "source": [
    "from google.colab import drive\n",
    "drive.mount('/content/drive')\n",
    "df1=pd.read_csv('/content/drive/MyDrive/Colab Notebooks/dataset_039.csv')\n",
    "df2=pd.read_csv('/content/drive/MyDrive/Colab Notebooks/dataset_110.csv')\n",
    "df3=pd.read_csv('/content/drive/MyDrive/Colab Notebooks/dataset_173.csv')\n",
    "df4=pd.read_csv('/content/drive/MyDrive/Colab Notebooks/dataset_196.csv')\n",
    "#print(df1)"
   ]
  },
  {
   "cell_type": "code",
   "execution_count": null,
   "metadata": {
    "id": "q9dyoyTAVl9h"
   },
   "outputs": [],
   "source": [
    "#from google.colab import files\n",
    "#uploaded = files.upload()"
   ]
  },
  {
   "cell_type": "code",
   "execution_count": null,
   "metadata": {
    "id": "VfsAZijymbXx"
   },
   "outputs": [],
   "source": [
    "#!wget --no-check-certificate --output-document=dataset_110.csv 'https://docs.google.com/spreadsheets/d/1M6uJSwQUwScg0sNttlSM06IN1a5QA3yqgRKP5rsKYNc/edit#gid=900037210&single=true&output=csv'\n",
    "#!wget --no-check-certificate --output-document=dataset_039.csv 'https://docs.google.com/spreadsheets/d/1_h6kL4HdEcVHuhiMFB4lSC1p80ZCa88ZCkVRb3bSktg/edit?usp=sharing'\n",
    "#df1=pd.read_csv('dataset_039.csv')\n",
    "#df2=pd.read_csv('dataset_110.csv')"
   ]
  },
  {
   "cell_type": "markdown",
   "metadata": {
    "id": "1kWU-0dTBgBa"
   },
   "source": [
    "# Dataset1"
   ]
  },
  {
   "cell_type": "code",
   "execution_count": null,
   "metadata": {
    "colab": {
     "base_uri": "https://localhost:8080/",
     "height": 423
    },
    "id": "NGFWBvqbe8ZF",
    "outputId": "4b57c598-7ed2-4ec1-bdb7-e76842014f3d"
   },
   "outputs": [],
   "source": [
    "#Remove Education==unknown\n",
    "#drop1x=df1x[df1x.education!='unknown']\n",
    "df1=df1[df1[\"education\"].str.contains(\"unknown\") == False]\n",
    "df1\n"
   ]
  },
  {
   "cell_type": "code",
   "execution_count": null,
   "metadata": {
    "id": "6IArVhpsqgNY"
   },
   "outputs": [],
   "source": [
    "df1.replace({'yes':1,'no':0},inplace=True)\n",
    "y=df1['y']\n",
    "print(y)\n",
    "df1=df1.drop(columns=['poutcome'])\n",
    "df1x=df1.drop(columns=['y'])\n",
    "print(df1x)"
   ]
  },
  {
   "cell_type": "code",
   "execution_count": null,
   "metadata": {
    "id": "J_k47JDdQIKh"
   },
   "outputs": [],
   "source": [
    "#classify job\n",
    "df1x=df1x.replace({'job':{'unknown':0, \"student\":0,'retired':0,\"unemployed\":0}})\n",
    "\n",
    "df1x['job']=[1 if a!=0 else 0 for a in df1x['job'] ]\n",
    "df1x['job'].value_counts()\n",
    "print(df1x)"
   ]
  },
  {
   "cell_type": "code",
   "execution_count": null,
   "metadata": {
    "colab": {
     "base_uri": "https://localhost:8080/"
    },
    "id": "EBfTUj2whKyp",
    "outputId": "c8e97a39-5f26-4328-9066-afe49f0b8909"
   },
   "outputs": [],
   "source": [
    "print(pd.get_dummies(df1x['education']).head())"
   ]
  },
  {
   "cell_type": "code",
   "execution_count": null,
   "metadata": {
    "id": "Yyt5SxQ-l0cC"
   },
   "outputs": [],
   "source": [
    "#Conver month to numeric\n",
    "#pd.to_datetime(drop1x.month, format='%b').dt.month\n",
    "mon_num=pd.to_datetime(df1x.month, format='%b').dt.month\n",
    "mon_num\n",
    "df1x['month']=mon_num"
   ]
  },
  {
   "cell_type": "code",
   "execution_count": null,
   "metadata": {
    "id": "gTPjJPZHuxZF"
   },
   "outputs": [],
   "source": [
    "df1x"
   ]
  },
  {
   "cell_type": "code",
   "execution_count": null,
   "metadata": {
    "id": "7xYtS4kXhsli"
   },
   "outputs": [],
   "source": [
    "#Contact: 3类变2类 0/1\n",
    "#drop1x['contact'].replace('unknown',0)#replace('telephone',1)\n",
    "rp = df1x.replace({'contact' : {'unknown' : 0, 'cellular' : 0, 'telephone' : 1}})\n",
    "#rp=drop1x['contact'].replace('cellular',0)\n",
    "print(rp)"
   ]
  },
  {
   "cell_type": "code",
   "execution_count": null,
   "metadata": {
    "id": "nW5iE8sPxf5R"
   },
   "outputs": [],
   "source": [
    "#Dummy\n",
    "def dummy_df(df, dummyList):\n",
    "  for i in dummyList:\n",
    "    dummies=pd.get_dummies(df[i], prefix=i)\n",
    "    df=df.drop(columns=[i])\n",
    "    df=pd.concat([df, dummies], axis=1)\n",
    "  return df\n",
    "\n",
    "dummyList=['marital','education']\n",
    "X1=dummy_df(rp, dummyList)\n",
    "#dummies=pd.get_dummies(rp['education'])\n"
   ]
  },
  {
   "cell_type": "code",
   "execution_count": null,
   "metadata": {
    "id": "hV6WRjML0jX2"
   },
   "outputs": [],
   "source": [
    "print(X1)"
   ]
  },
  {
   "cell_type": "code",
   "execution_count": null,
   "metadata": {
    "id": "Xcjg3A1RwoFe"
   },
   "outputs": [],
   "source": [
    "X_train, X_test, y_train, y_test = train_test_split(X1, y, test_size=0.3, random_state=33151938)"
   ]
  },
  {
   "cell_type": "code",
   "execution_count": null,
   "metadata": {
    "id": "tZecdV7SLKvV"
   },
   "outputs": [],
   "source": [
    "X_train"
   ]
  },
  {
   "cell_type": "markdown",
   "metadata": {
    "id": "JqeFChib8SwY"
   },
   "source": [
    "## **Random Forest**"
   ]
  },
  {
   "cell_type": "code",
   "execution_count": null,
   "metadata": {
    "colab": {
     "base_uri": "https://localhost:8080/"
    },
    "id": "zSYJB66P7Fs6",
    "outputId": "6b301777-4464-4960-c4ff-762f04466e97"
   },
   "outputs": [],
   "source": [
    "rf=RandomForestClassifier()\n",
    "scores = cross_val_score(rf, X_train, y_train, cv=5, scoring='accuracy')\n",
    "scoresROC = cross_val_score(rf, X_train, y_train, cv=5, scoring='roc_auc')\n",
    "print(scores)\n",
    "print(scoresROC)"
   ]
  },
  {
   "cell_type": "code",
   "execution_count": null,
   "metadata": {
    "colab": {
     "base_uri": "https://localhost:8080/"
    },
    "id": "UNEgEIel-XZL",
    "outputId": "32268a02-b2c0-4988-ed03-b218d0bbe7d7"
   },
   "outputs": [],
   "source": [
    "print(scores.mean(),scoresROC.mean())"
   ]
  },
  {
   "cell_type": "code",
   "execution_count": null,
   "metadata": {
    "id": "YE9d1gQoArrs"
   },
   "outputs": [],
   "source": [
    "from sklearn.model_selection import cross_validate"
   ]
  },
  {
   "cell_type": "code",
   "execution_count": null,
   "metadata": {
    "colab": {
     "base_uri": "https://localhost:8080/",
     "height": 206
    },
    "id": "m0mmLjHqAvdV",
    "outputId": "5847f64b-ecc5-45a0-d472-e4c1fd325ad5"
   },
   "outputs": [],
   "source": [
    "scores = cross_validate(rf, X_train, y_train, cv=5, return_train_score=True)\n",
    "score_df=pd.DataFrame(scores)\n",
    "score_df"
   ]
  },
  {
   "cell_type": "code",
   "execution_count": null,
   "metadata": {
    "colab": {
     "base_uri": "https://localhost:8080/"
    },
    "id": "2Lx_oOu1Bj5j",
    "outputId": "01efee7f-748d-451d-e50b-cdf7c958c082"
   },
   "outputs": [],
   "source": [
    "#print(score_df.mean(),score_df.std())\n",
    "rf.fit(X_train, y_train)\n",
    "print(rf.get_params())"
   ]
  },
  {
   "cell_type": "code",
   "execution_count": null,
   "metadata": {
    "colab": {
     "base_uri": "https://localhost:8080/",
     "height": 139
    },
    "id": "NufKYg_dFC7M",
    "outputId": "05a14eeb-3c22-44ad-fb01-1deddbf5d0a5"
   },
   "outputs": [],
   "source": [
    "from sklearn.model_selection import GridSearchCV\n",
    "param_grid = {\n",
    "    'n_estimators': [50, 100, 150],\n",
    "    'max_features': ['sqrt', 'log2'],\n",
    "    'max_depth': [3, 6, 9]\n",
    "}\n",
    "grid_search = GridSearchCV(RandomForestClassifier(),\n",
    "                           param_grid=param_grid,cv=5,return_train_score=True)\n",
    "grid_search.fit(X_train, y_train)\n"
   ]
  },
  {
   "cell_type": "code",
   "execution_count": null,
   "metadata": {
    "colab": {
     "base_uri": "https://localhost:8080/",
     "height": 613
    },
    "id": "nDGENKD-JTUS",
    "outputId": "42d709ab-f32b-428b-a02c-bf3e4266297f"
   },
   "outputs": [],
   "source": [
    "train_scores = pd.DataFrame(grid_search.cv_results_)\n",
    "score_result=train_scores.loc[:,['params','param_max_depth','mean_train_score','mean_test_score']]\n",
    "score_result\n",
    "#train_scores"
   ]
  },
  {
   "cell_type": "code",
   "execution_count": null,
   "metadata": {
    "id": "xWcTu09_RlpK"
   },
   "outputs": [],
   "source": [
    "print(train_scores)"
   ]
  },
  {
   "cell_type": "code",
   "execution_count": null,
   "metadata": {
    "colab": {
     "base_uri": "https://localhost:8080/",
     "height": 368
    },
    "id": "sVYPqTVJNDvU",
    "outputId": "eec8e467-f80e-4113-9a69-55879c077ebf"
   },
   "outputs": [],
   "source": [
    "import matplotlib.pyplot as plt\n",
    "import altair as alt\n",
    "source = score_result.melt(id_vars=['param_max_depth'] ,\n",
    "                              value_vars=['mean_train_score', 'mean_test_score'],\n",
    "                              var_name='score_type', value_name='accuracy')\n",
    "chart1 = alt.Chart(source).mark_line().encode(\n",
    "    alt.X('param_max_depth:Q', axis=alt.Axis(title=\"Tree Depth\")),\n",
    "    alt.Y('accuracy:Q'),\n",
    "    alt.Color('score_type:N', scale=alt.Scale(domain=['mean_train_score', 'mean_test_score'],\n",
    "                                           range=['teal', 'gold'])))\n",
    "chart1"
   ]
  },
  {
   "cell_type": "code",
   "execution_count": null,
   "metadata": {
    "colab": {
     "base_uri": "https://localhost:8080/"
    },
    "id": "1wdwBihNYnfh",
    "outputId": "1d7705ff-7617-4ae6-942d-7aaaf13c0547"
   },
   "outputs": [],
   "source": [
    "print(grid_search.best_params_)"
   ]
  },
  {
   "cell_type": "code",
   "execution_count": null,
   "metadata": {
    "colab": {
     "base_uri": "https://localhost:8080/",
     "height": 74
    },
    "id": "MqPQ978vhWI4",
    "outputId": "ad7f9821-488b-400e-bce8-d376b0aff255"
   },
   "outputs": [],
   "source": [
    "\n",
    "\n",
    "rf_grid=RandomForestClassifier(max_depth=6, max_features='sqrt', n_estimators= 100)\n",
    "rf_grid.fit(X_train, y_train)\n"
   ]
  },
  {
   "cell_type": "code",
   "execution_count": null,
   "metadata": {
    "colab": {
     "base_uri": "https://localhost:8080/"
    },
    "id": "LJZmM67WlC3q",
    "outputId": "141ce784-5aa7-4b09-808b-5043c6ad605a"
   },
   "outputs": [],
   "source": [
    "# predict the mode\n",
    "y_pred_grid = rf_grid.predict(X_test)\n",
    "print(classification_report(y_pred_grid, y_test))\n",
    "y_pred_prob = rf_grid.predict_proba(X_test)[:, 1]\n",
    "auc = roc_auc_score(y_test, y_pred_prob)\n",
    "print('RandomForest AUC:',auc)"
   ]
  },
  {
   "cell_type": "code",
   "execution_count": null,
   "metadata": {
    "colab": {
     "base_uri": "https://localhost:8080/"
    },
    "id": "yBOUwtZoZy-w",
    "outputId": "8cd2cd3d-6c7b-453d-bfce-04de5f0b1f89"
   },
   "outputs": [],
   "source": [
    "print(f'Train Acc:{rf_grid.score(X_train,y_train)}')\n",
    "print(f'Test Acc:{rf_grid.score(X_test,y_test)}')"
   ]
  },
  {
   "cell_type": "code",
   "execution_count": null,
   "metadata": {
    "colab": {
     "base_uri": "https://localhost:8080/"
    },
    "id": "sdECk7TgTLL_",
    "outputId": "a32e2372-18b9-4f5a-90fe-fbcebf9713c5"
   },
   "outputs": [],
   "source": [
    "rf_grid.feature_importances_"
   ]
  },
  {
   "cell_type": "code",
   "execution_count": null,
   "metadata": {
    "colab": {
     "base_uri": "https://localhost:8080/"
    },
    "id": "IE1n0eR_rdbo",
    "outputId": "64f59a0e-c6e0-496f-b158-c428de22cce8"
   },
   "outputs": [],
   "source": [
    "X1.columns"
   ]
  },
  {
   "cell_type": "code",
   "execution_count": null,
   "metadata": {
    "id": "QQq7V-iEUrIx"
   },
   "outputs": [],
   "source": [
    "sorted_indices = np.argsort(rf_grid.feature_importances_)\n",
    "sorted_feature_importance = np.array(rf_grid.feature_importances_)[sorted_indices]\n",
    "sorted_column_headings = np.array(X1.columns)[sorted_indices]\n",
    "\n",
    "# Plotting\n",
    "fig, ax = plt.subplots()\n",
    "ax.barh(sorted_column_headings, sorted_feature_importance)\n",
    "ax.set_xlabel('Importance')\n",
    "ax.set_ylabel('Features')\n",
    "ax.set_title('Feature Importance_RandomForest ')\n",
    "\n",
    "\n",
    "\n",
    "# Rotate x-axis labels for better visibility if needed\n",
    "plt.xticks(rotation=88)\n",
    "\n",
    "# Display the plot\n",
    "plt.show()"
   ]
  },
  {
   "cell_type": "code",
   "execution_count": null,
   "metadata": {
    "colab": {
     "base_uri": "https://localhost:8080/"
    },
    "id": "Vn_qdH9AuI9S",
    "outputId": "2c51556a-035e-4dad-8205-fead280248fa"
   },
   "outputs": [],
   "source": [
    "#Dafault param\n",
    "rf=RandomForestClassifier().fit(X_train,y_train)\n",
    "rf.score(X_test,y_test)\n"
   ]
  },
  {
   "cell_type": "markdown",
   "metadata": {
    "id": "POrQiES_79v2"
   },
   "source": [
    "##**Decision Tree**"
   ]
  },
  {
   "cell_type": "code",
   "execution_count": null,
   "metadata": {
    "colab": {
     "base_uri": "https://localhost:8080/"
    },
    "id": "I0wglwjEZRkE",
    "outputId": "69d316ad-9947-448a-a522-37ffadbd22e5"
   },
   "outputs": [],
   "source": [
    "#Decision Tree\n",
    "from sklearn.tree import DecisionTreeClassifier\n",
    "\n",
    "dtree = DecisionTreeClassifier()\n",
    "dtree = dtree.fit(X_train, y_train)\n",
    "\n",
    "cv_scores = cross_val_score(dtree, X_train, y_train, cv=5)\n",
    "# Print the accuracy scores for each fold\n",
    "print(\"Cross-validation scores:\", cv_scores)\n",
    "# Calculate the mean accuracy across all folds\n",
    "mean_accuracy = cv_scores.mean()\n",
    "print(\"Mean accuracy:\", mean_accuracy)"
   ]
  },
  {
   "cell_type": "code",
   "execution_count": null,
   "metadata": {
    "id": "yyAA_m9SagQK"
   },
   "outputs": [],
   "source": [
    "#DT GRid search\n",
    "dt_param_grid={\n",
    "    'criterion': ['gini', 'entropy'],\n",
    "    'max_depth': range(3,10),\n",
    "}\n",
    "\n",
    "dt_grid=GridSearchCV(DecisionTreeClassifier(),dt_param_grid,cv=5,return_train_score=True)\n",
    "dt_grid.fit(X_train, y_train)\n"
   ]
  },
  {
   "cell_type": "code",
   "execution_count": null,
   "metadata": {
    "colab": {
     "base_uri": "https://localhost:8080/"
    },
    "id": "gjCw-72Hbq2g",
    "outputId": "b17b1fc9-761d-495c-b136-ec6f64f3b45c"
   },
   "outputs": [],
   "source": [
    "bestParams=dt_grid.best_params_\n",
    "bestScore=dt_grid.best_score_\n",
    "print(bestParams,'\\n', bestScore)"
   ]
  },
  {
   "cell_type": "code",
   "execution_count": null,
   "metadata": {
    "colab": {
     "base_uri": "https://localhost:8080/",
     "height": 488
    },
    "id": "faPP46IxcksP",
    "outputId": "fbde21d1-417e-498e-b4f7-d8bbd30d50ec"
   },
   "outputs": [],
   "source": [
    "train_scores = pd.DataFrame(dt_grid.cv_results_)\n",
    "score_result=train_scores.loc[:,['params','param_max_depth','mean_train_score','mean_test_score']]\n",
    "score_result"
   ]
  },
  {
   "cell_type": "code",
   "execution_count": null,
   "metadata": {
    "colab": {
     "base_uri": "https://localhost:8080/",
     "height": 368
    },
    "id": "6VSyG2cqdFnB",
    "outputId": "33ad61ba-a0b7-47a1-f16a-08f7b75a1ea7"
   },
   "outputs": [],
   "source": [
    "source = score_result.melt(id_vars=['param_max_depth'] ,\n",
    "                              value_vars=['mean_train_score', 'mean_test_score'],\n",
    "                              var_name='score_type', value_name='accuracy')\n",
    "chart2 = alt.Chart(source).mark_line().encode(\n",
    "    alt.X('param_max_depth:Q', axis=alt.Axis(title=\"Tree Depth\")),\n",
    "    alt.Y('accuracy:Q'),\n",
    "    alt.Color('score_type:N', scale=alt.Scale(domain=['mean_train_score', 'mean_test_score'],\n",
    "                                           range=['teal', 'gold'])))\n",
    "chart2"
   ]
  },
  {
   "cell_type": "code",
   "execution_count": null,
   "metadata": {
    "colab": {
     "base_uri": "https://localhost:8080/"
    },
    "id": "Y_IWvc5q2Oca",
    "outputId": "8ba94129-919f-4450-c5d8-d83e30e4d2bd"
   },
   "outputs": [],
   "source": [
    "best_dt=DecisionTreeClassifier(criterion= 'gini', max_depth=5)\n",
    "best_dt.fit(X_train, y_train)\n",
    "dt_acc=dtree.score(X_test,y_test)\n",
    "print(dt_acc)"
   ]
  },
  {
   "cell_type": "code",
   "execution_count": null,
   "metadata": {
    "colab": {
     "base_uri": "https://localhost:8080/"
    },
    "id": "5b1or9wggRCv",
    "outputId": "70fcdf46-0e7d-4bb9-e13a-6a76c8895db1"
   },
   "outputs": [],
   "source": [
    "from sklearn.metrics import roc_auc_score\n",
    "y_pred = dtree.predict(X_test)\n",
    "print(classification_report(y_pred, y_test))\n",
    "#accuracy = accuracy_score(y_test, y_pred)\n",
    "#print(\"Accuracy:\", accuracy)\n",
    "y_pred_prob = best_dt.predict_proba(X_test)[:, 1]\n",
    "auc = roc_auc_score(y_test, y_pred_prob)\n",
    "print('Decisiontree AUC:',auc)"
   ]
  },
  {
   "cell_type": "markdown",
   "metadata": {
    "id": "BtUadMVY8I-G"
   },
   "source": [
    "## **Logistic** **Regression**"
   ]
  },
  {
   "cell_type": "code",
   "execution_count": null,
   "metadata": {
    "colab": {
     "base_uri": "https://localhost:8080/"
    },
    "id": "qosuUC9l9g1Z",
    "outputId": "58f23525-912d-4108-b4d5-1596afa277d2"
   },
   "outputs": [],
   "source": [
    "#Logistic Regression\n",
    "\n",
    "sc = StandardScaler()\n",
    "sc.fit(X_train)\n",
    "X_train_std = sc.transform(X_train)\n",
    "X_test_std = sc.transform(X_test)\n",
    "lr=LogisticRegression(C=5,max_iter=100)\n",
    "\n",
    "lr_scores = cross_val_score(lr, X_train_std, y_train, cv=5)\n",
    "lr_auc_scores = cross_val_score(lr, X_train_std, y_train, scoring='roc_auc',cv=5)\n",
    "print('Acc',lr_scores)\n",
    "print('AUC',lr_auc_scores)\n",
    "#lr.score(X_test,y_test)"
   ]
  },
  {
   "cell_type": "code",
   "execution_count": null,
   "metadata": {
    "id": "hVhRi2yooMGz"
   },
   "outputs": [],
   "source": [
    "X_train_std"
   ]
  },
  {
   "cell_type": "code",
   "execution_count": null,
   "metadata": {
    "colab": {
     "base_uri": "https://localhost:8080/"
    },
    "id": "covJeISRwu6m",
    "outputId": "39f153c5-6241-40ac-906d-613cbdccc90e"
   },
   "outputs": [],
   "source": [
    "lr.fit(X_train_std,y_train)\n",
    "lr_acc=lr.score(X_test_std,y_test)\n",
    "print(lr_acc)\n",
    "\n",
    "y_pred_prob = lr.predict_proba(X_test_std)[:, 1]\n",
    "auc = roc_auc_score(y_test, y_pred_prob)\n",
    "print('Logistic Regression AUC:',auc)"
   ]
  },
  {
   "cell_type": "code",
   "execution_count": null,
   "metadata": {
    "colab": {
     "base_uri": "https://localhost:8080/"
    },
    "id": "tXDZ6xMEwlQ9",
    "outputId": "a2aa8b64-fdac-4b8d-e6fd-96b97912299f"
   },
   "outputs": [],
   "source": [
    "from sklearn.metrics import roc_auc_score\n",
    "y_pred = lr.predict(X_test_std)\n",
    "print(classification_report(y_pred, y_test))\n",
    "#accuracy = accuracy_score(y_test, y_pred)\n",
    "#print(\"Accuracy:\", accuracy)\n"
   ]
  },
  {
   "cell_type": "markdown",
   "metadata": {
    "id": "kJbzPFE4-N6m"
   },
   "source": [
    "# Dataset2"
   ]
  },
  {
   "cell_type": "code",
   "execution_count": null,
   "metadata": {
    "colab": {
     "base_uri": "https://localhost:8080/",
     "height": 423
    },
    "id": "J1jGT29Psqhe",
    "outputId": "7505d3e5-f067-4bba-9fb4-8530c82cd84e"
   },
   "outputs": [],
   "source": [
    "df2"
   ]
  },
  {
   "cell_type": "code",
   "execution_count": null,
   "metadata": {
    "colab": {
     "base_uri": "https://localhost:8080/"
    },
    "id": "OkQ3Jpv1-TnZ",
    "outputId": "2791958d-33b4-4833-d7a5-3a6116c04821"
   },
   "outputs": [],
   "source": [
    "df2=df2[df2[\"education\"].str.contains(\"unknown\") == False]\n",
    "\n",
    "df2.replace({'yes':1,'no':0},inplace=True)\n",
    "y=df2['y']\n",
    "print(y)\n",
    "\n",
    "df2=df2.drop(columns=['poutcome'])\n",
    "df2x=df2.drop(columns=['y'])\n",
    "print(df2x)\n",
    "\n",
    "#classify job\n",
    "df2x=df2x.replace({'job':{'unknown':0, \"student\":0,'retired':0,\"unemployed\":0}})\n",
    "\n",
    "df2x['job']=[1 if a!=0 else 0 for a in df2x['job'] ]\n",
    "df2x['job'].value_counts()\n",
    "print(df2x)\n",
    "\n",
    "mon_num=pd.to_datetime(df2x.month, format='%b').dt.month\n",
    "mon_num\n",
    "df2x['month']=mon_num\n",
    "\n",
    "rp = df2x.replace({'contact' : {'unknown' : 0, 'cellular' : 0, 'telephone' : 1}})\n",
    "print(rp)\n",
    "\n",
    "dummyList=['marital','education']\n",
    "X2=dummy_df(rp, dummyList)\n",
    "#dummies=pd.get_dummies(rp['education'])\n",
    "print(X2)\n",
    "X_train, X_test, y_train, y_test = train_test_split(X2, y, test_size=0.3, random_state=33151938)\n",
    "print(X_train)"
   ]
  },
  {
   "cell_type": "markdown",
   "metadata": {
    "id": "xSue2Ou6Ez74"
   },
   "source": [
    "## RF"
   ]
  },
  {
   "cell_type": "code",
   "execution_count": null,
   "metadata": {
    "colab": {
     "base_uri": "https://localhost:8080/",
     "height": 613
    },
    "id": "BdVzGmH1E4CF",
    "outputId": "dc187966-b14e-4df9-d265-65d27e4e1d48"
   },
   "outputs": [],
   "source": [
    "param_grid = {\n",
    "    'n_estimators': [50, 100, 150],\n",
    "    'max_features': ['sqrt', 'log2'],\n",
    "    'max_depth': [3, 6, 9]\n",
    "}\n",
    "grid_search = GridSearchCV(RandomForestClassifier(),\n",
    "                           param_grid=param_grid,cv=5,return_train_score=True)\n",
    "grid_search.fit(X_train, y_train)\n",
    "\n",
    "train_scores = pd.DataFrame(grid_search.cv_results_)\n",
    "score_result=train_scores.loc[:,['params','param_max_depth','mean_train_score','mean_test_score']]\n",
    "score_result"
   ]
  },
  {
   "cell_type": "code",
   "execution_count": null,
   "metadata": {
    "colab": {
     "base_uri": "https://localhost:8080/",
     "height": 368
    },
    "id": "ZmNCdy1ZFHsS",
    "outputId": "f1ccbba9-5662-44b6-b5d4-4aa78122f4d5"
   },
   "outputs": [],
   "source": [
    "source = score_result.melt(id_vars=['param_max_depth'] ,\n",
    "                              value_vars=['mean_train_score', 'mean_test_score'],\n",
    "                              var_name='score_type', value_name='accuracy')\n",
    "chart2rf = alt.Chart(source).mark_line().encode(\n",
    "    alt.X('param_max_depth:Q', axis=alt.Axis(title=\"Tree Depth\")),\n",
    "    alt.Y('accuracy:Q'),\n",
    "    alt.Color('score_type:N', scale=alt.Scale(domain=['mean_train_score', 'mean_test_score'],\n",
    "                                           range=['teal', 'gold'])))\n",
    "chart2rf"
   ]
  },
  {
   "cell_type": "code",
   "execution_count": null,
   "metadata": {
    "id": "F9OT7WSHFQvG"
   },
   "outputs": [],
   "source": [
    "print(grid_search.best_params_)"
   ]
  },
  {
   "cell_type": "code",
   "execution_count": null,
   "metadata": {
    "colab": {
     "base_uri": "https://localhost:8080/",
     "height": 74
    },
    "id": "glIOxkKXFTIY",
    "outputId": "3fe0d778-8601-4e04-8e63-eaa4545cbd86"
   },
   "outputs": [],
   "source": [
    "rf_grid=RandomForestClassifier(max_depth=6, max_features='sqrt', n_estimators= 100)\n",
    "rf_grid.fit(X_train, y_train)\n"
   ]
  },
  {
   "cell_type": "code",
   "execution_count": null,
   "metadata": {
    "colab": {
     "base_uri": "https://localhost:8080/"
    },
    "id": "zcpYUdcpFWXg",
    "outputId": "880528e0-6446-47d2-defa-08c0d25d4ed0"
   },
   "outputs": [],
   "source": [
    "# predict the mode\n",
    "y_pred_grid = rf_grid.predict(X_test)\n",
    "print(classification_report(y_pred_grid, y_test))\n",
    "y_pred_prob = rf_grid.predict_proba(X_test)[:, 1]\n",
    "auc = roc_auc_score(y_test, y_pred_prob)\n",
    "print('RandomForest AUC:',auc)"
   ]
  },
  {
   "cell_type": "markdown",
   "metadata": {
    "id": "iyX_EATOOVvP"
   },
   "source": [
    "## DT"
   ]
  },
  {
   "cell_type": "code",
   "execution_count": null,
   "metadata": {
    "colab": {
     "base_uri": "https://localhost:8080/"
    },
    "id": "oseL1F-BOrSM",
    "outputId": "d693c2da-a48f-4dc5-b29d-feb5a2b0bbf7"
   },
   "outputs": [],
   "source": [
    "#Decision Tree\n",
    "from sklearn.tree import DecisionTreeClassifier\n",
    "\n",
    "dtree = DecisionTreeClassifier()\n",
    "dtree = dtree.fit(X_train, y_train)\n",
    "\n",
    "cv_scores = cross_val_score(dtree, X_train, y_train, cv=5)\n",
    "# Print the accuracy scores for each fold\n",
    "print(\"Cross-validation scores:\", cv_scores)\n",
    "# Calculate the mean accuracy across all folds\n",
    "mean_accuracy = cv_scores.mean()\n",
    "print(\"Mean accuracy:\", mean_accuracy)"
   ]
  },
  {
   "cell_type": "code",
   "execution_count": null,
   "metadata": {
    "id": "Hp0gd1mXOrSM"
   },
   "outputs": [],
   "source": [
    "#DT GRid search\n",
    "dt_param_grid={\n",
    "    'criterion': ['gini', 'entropy'],\n",
    "    'max_depth': range(3,10),\n",
    "}\n",
    "\n",
    "dt_grid=GridSearchCV(DecisionTreeClassifier(),dt_param_grid,cv=5,return_train_score=True)\n",
    "dt_grid.fit(X_train, y_train)\n"
   ]
  },
  {
   "cell_type": "code",
   "execution_count": null,
   "metadata": {
    "colab": {
     "base_uri": "https://localhost:8080/"
    },
    "id": "RCFsUPfyOrSN",
    "outputId": "2c8fadbb-00ab-4165-9a61-4c684065bd3d"
   },
   "outputs": [],
   "source": [
    "bestParams=dt_grid.best_params_\n",
    "bestScore=dt_grid.best_score_\n",
    "print(bestParams,'\\n', bestScore)"
   ]
  },
  {
   "cell_type": "code",
   "execution_count": null,
   "metadata": {
    "colab": {
     "base_uri": "https://localhost:8080/",
     "height": 488
    },
    "id": "3fu5VLHZOrSN",
    "outputId": "055460d2-830e-45ae-aa33-954e4d86adbe"
   },
   "outputs": [],
   "source": [
    "train_scores = pd.DataFrame(dt_grid.cv_results_)\n",
    "score_result=train_scores.loc[:,['params','param_max_depth','mean_train_score','mean_test_score']]\n",
    "score_result"
   ]
  },
  {
   "cell_type": "code",
   "execution_count": null,
   "metadata": {
    "colab": {
     "base_uri": "https://localhost:8080/",
     "height": 368
    },
    "id": "eMyTquUEOrSN",
    "outputId": "0ca40c99-59ee-4258-b33b-442970104036"
   },
   "outputs": [],
   "source": [
    "source = score_result.melt(id_vars=['param_max_depth'] ,\n",
    "                              value_vars=['mean_train_score', 'mean_test_score'],\n",
    "                              var_name='score_type', value_name='accuracy')\n",
    "chart2dt = alt.Chart(source).mark_line().encode(\n",
    "    alt.X('param_max_depth:Q', axis=alt.Axis(title=\"Tree Depth\")),\n",
    "    alt.Y('accuracy:Q'),\n",
    "    alt.Color('score_type:N', scale=alt.Scale(domain=['mean_train_score', 'mean_test_score'],\n",
    "                                           range=['teal', 'gold'])))\n",
    "chart2dt"
   ]
  },
  {
   "cell_type": "code",
   "execution_count": null,
   "metadata": {
    "colab": {
     "base_uri": "https://localhost:8080/"
    },
    "id": "OJ9OdRHFOrSN",
    "outputId": "298d6cf2-a0d8-40ee-ac90-87cc2e65426a"
   },
   "outputs": [],
   "source": [
    "best_dt=DecisionTreeClassifier(criterion= 'gini', max_depth=5)\n",
    "best_dt.fit(X_train, y_train)\n",
    "dt_acc=dtree.score(X_test,y_test)\n",
    "print(dt_acc)"
   ]
  },
  {
   "cell_type": "code",
   "execution_count": null,
   "metadata": {
    "colab": {
     "base_uri": "https://localhost:8080/"
    },
    "id": "UoqtmJ12OrSN",
    "outputId": "9574d149-9141-4494-9b04-947706a8ad62"
   },
   "outputs": [],
   "source": [
    "from sklearn.metrics import roc_auc_score\n",
    "y_pred = dtree.predict(X_test)\n",
    "print(classification_report(y_pred, y_test))\n",
    "#accuracy = accuracy_score(y_test, y_pred)\n",
    "#print(\"Accuracy:\", accuracy)\n",
    "y_pred_prob = best_dt.predict_proba(X_test)[:, 1]\n",
    "auc = roc_auc_score(y_test, y_pred_prob)\n",
    "print('Decisiontree AUC:',auc)"
   ]
  },
  {
   "cell_type": "markdown",
   "metadata": {
    "id": "O2Wp-FFVPZnS"
   },
   "source": [
    "## LG"
   ]
  },
  {
   "cell_type": "code",
   "execution_count": null,
   "metadata": {
    "colab": {
     "base_uri": "https://localhost:8080/"
    },
    "id": "IvCCHn2-PrBy",
    "outputId": "b6cd4b85-a7e6-4a1a-cc9a-1a00ebb5f750"
   },
   "outputs": [],
   "source": [
    "#Logistic Regression\n",
    "\n",
    "sc = StandardScaler()\n",
    "sc.fit(X_train)\n",
    "X_train_std = sc.transform(X_train)\n",
    "X_test_std = sc.transform(X_test)\n",
    "lr=LogisticRegression(C=5,max_iter=100)\n",
    "\n",
    "lr_scores = cross_val_score(lr, X_train_std, y_train, cv=5)\n",
    "lr_auc_scores = cross_val_score(lr, X_train_std, y_train, scoring='roc_auc',cv=5)\n",
    "print('Acc',lr_scores)\n",
    "print('AUC',lr_auc_scores)\n",
    "#lr.score(X_test,y_test)"
   ]
  },
  {
   "cell_type": "code",
   "execution_count": null,
   "metadata": {
    "colab": {
     "base_uri": "https://localhost:8080/"
    },
    "id": "CmM_zlN6PrB4",
    "outputId": "19db0168-7f77-47ea-c52e-2a1586efe2db"
   },
   "outputs": [],
   "source": [
    "lr.fit(X_train_std,y_train)\n",
    "lr_acc=lr.score(X_test_std,y_test)\n",
    "print(lr_acc)\n",
    "\n",
    "y_pred_prob = lr.predict_proba(X_test_std)[:, 1]\n",
    "auc = roc_auc_score(y_test, y_pred_prob)\n",
    "print('Logistic Regression AUC:',auc)"
   ]
  },
  {
   "cell_type": "code",
   "execution_count": null,
   "metadata": {
    "colab": {
     "base_uri": "https://localhost:8080/"
    },
    "id": "fAJtljbzPrB5",
    "outputId": "010aab4c-e105-49d9-89d2-98d5f7459ee0"
   },
   "outputs": [],
   "source": [
    "from sklearn.metrics import roc_auc_score\n",
    "y_pred = lr.predict(X_test_std)\n",
    "print(classification_report(y_pred, y_test))\n",
    "#accuracy = accuracy_score(y_test, y_pred)\n",
    "#print(\"Accuracy:\", accuracy)\n"
   ]
  },
  {
   "cell_type": "markdown",
   "metadata": {
    "id": "zuyGOVgvQoKo"
   },
   "source": [
    "# Dataset3"
   ]
  },
  {
   "cell_type": "code",
   "execution_count": null,
   "metadata": {
    "colab": {
     "base_uri": "https://localhost:8080/"
    },
    "id": "Ye-qBvMkSd3q",
    "outputId": "00ae135f-40b0-49aa-e59e-26506cc132b9"
   },
   "outputs": [],
   "source": [
    "df3=df3[df3[\"education\"].str.contains(\"unknown\") == False]\n",
    "\n",
    "df3.replace({'yes':1,'no':0},inplace=True)\n",
    "y=df3['y']\n",
    "print(y)\n",
    "\n",
    "df3=df3.drop(columns=['poutcome'])\n",
    "df3x=df3.drop(columns=['y'])\n",
    "print(df3x)\n",
    "\n",
    "#classify job\n",
    "df3x=df3x.replace({'job':{'unknown':0, \"student\":0,'retired':0,\"unemployed\":0}})\n",
    "\n",
    "df3x['job']=[1 if a!=0 else 0 for a in df3x['job'] ]\n",
    "df3x['job'].value_counts()\n",
    "print(df3x)\n",
    "\n",
    "mon_num=pd.to_datetime(df3x.month, format='%b').dt.month\n",
    "mon_num\n",
    "df3x['month']=mon_num\n",
    "\n",
    "rp = df3x.replace({'contact' : {'unknown' : 0, 'cellular' : 0, 'telephone' : 1}})\n",
    "print(rp)\n",
    "\n",
    "dummyList=['marital','education']\n",
    "X3=dummy_df(rp, dummyList)\n",
    "#dummies=pd.get_dummies(rp['education'])\n",
    "print(X3)\n",
    "X_train, X_test, y_train, y_test = train_test_split(X3, y, test_size=0.3, random_state=33151938)\n",
    "print(X_train)\n"
   ]
  },
  {
   "cell_type": "markdown",
   "metadata": {
    "id": "ehRMXWcdRhJU"
   },
   "source": [
    "## RF"
   ]
  },
  {
   "cell_type": "code",
   "execution_count": null,
   "metadata": {
    "colab": {
     "base_uri": "https://localhost:8080/",
     "height": 613
    },
    "id": "aZf7_QWKRhJV",
    "outputId": "e638845d-82d4-45c8-eba4-2f8d32ce45c6"
   },
   "outputs": [],
   "source": [
    "param_grid = {\n",
    "    'n_estimators': [50, 100, 150],\n",
    "    'max_features': ['sqrt', 'log2'],\n",
    "    'max_depth': [3, 6, 9]\n",
    "}\n",
    "grid_search = GridSearchCV(RandomForestClassifier(),\n",
    "                           param_grid=param_grid,cv=5,return_train_score=True)\n",
    "grid_search.fit(X_train, y_train)\n",
    "\n",
    "train_scores = pd.DataFrame(grid_search.cv_results_)\n",
    "score_result=train_scores.loc[:,['params','param_max_depth','mean_train_score','mean_test_score']]\n",
    "score_result"
   ]
  },
  {
   "cell_type": "code",
   "execution_count": null,
   "metadata": {
    "colab": {
     "base_uri": "https://localhost:8080/",
     "height": 368
    },
    "id": "shWrWSEtRhJV",
    "outputId": "ccf624ae-51f2-45d1-cdec-15be262a00a9"
   },
   "outputs": [],
   "source": [
    "source = score_result.melt(id_vars=['param_max_depth'] ,\n",
    "                              value_vars=['mean_train_score', 'mean_test_score'],\n",
    "                              var_name='score_type', value_name='accuracy')\n",
    "chart3rf = alt.Chart(source).mark_line().encode(\n",
    "    alt.X('param_max_depth:Q', axis=alt.Axis(title=\"Tree Depth\")),\n",
    "    alt.Y('accuracy:Q'),\n",
    "    alt.Color('score_type:N', scale=alt.Scale(domain=['mean_train_score', 'mean_test_score'],\n",
    "                                           range=['teal', 'gold'])))\n",
    "chart3rf"
   ]
  },
  {
   "cell_type": "code",
   "execution_count": null,
   "metadata": {
    "colab": {
     "base_uri": "https://localhost:8080/"
    },
    "id": "Uc_3lPzxRhJV",
    "outputId": "a2c1304d-7063-4051-82f1-f692127e68f1"
   },
   "outputs": [],
   "source": [
    "print(grid_search.best_params_)"
   ]
  },
  {
   "cell_type": "code",
   "execution_count": null,
   "metadata": {
    "colab": {
     "base_uri": "https://localhost:8080/",
     "height": 74
    },
    "id": "X4sXYFZMRhJV",
    "outputId": "af0aac3c-8b3c-4a45-8325-b15570955775"
   },
   "outputs": [],
   "source": [
    "rf_grid=RandomForestClassifier(max_depth=6, max_features='sqrt', n_estimators= 100)\n",
    "rf_grid.fit(X_train, y_train)\n"
   ]
  },
  {
   "cell_type": "code",
   "execution_count": null,
   "metadata": {
    "colab": {
     "base_uri": "https://localhost:8080/"
    },
    "id": "_aGT1pwkRhJV",
    "outputId": "ce9493d0-afbb-47b9-fcdd-8295ad05afa0"
   },
   "outputs": [],
   "source": [
    "# predict the mode\n",
    "y_pred_grid = rf_grid.predict(X_test)\n",
    "print(classification_report(y_pred_grid, y_test))\n",
    "y_pred_prob = rf_grid.predict_proba(X_test)[:, 1]\n",
    "auc = roc_auc_score(y_test, y_pred_prob)\n",
    "print('RandomForest AUC:',auc)"
   ]
  },
  {
   "cell_type": "markdown",
   "metadata": {
    "id": "fiQKiMd6RtBp"
   },
   "source": [
    "## DT"
   ]
  },
  {
   "cell_type": "code",
   "execution_count": null,
   "metadata": {
    "colab": {
     "base_uri": "https://localhost:8080/"
    },
    "id": "JyMNMZMGR6ix",
    "outputId": "db15368a-8a9b-48c3-aa84-797883497e75"
   },
   "outputs": [],
   "source": [
    "#Decision Tree\n",
    "from sklearn.tree import DecisionTreeClassifier\n",
    "\n",
    "dtree = DecisionTreeClassifier()\n",
    "dtree = dtree.fit(X_train, y_train)\n",
    "\n",
    "cv_scores = cross_val_score(dtree, X_train, y_train, cv=5)\n",
    "# Print the accuracy scores for each fold\n",
    "print(\"Cross-validation scores:\", cv_scores)\n",
    "# Calculate the mean accuracy across all folds\n",
    "mean_accuracy = cv_scores.mean()\n",
    "print(\"Mean accuracy:\", mean_accuracy)"
   ]
  },
  {
   "cell_type": "code",
   "execution_count": null,
   "metadata": {
    "colab": {
     "base_uri": "https://localhost:8080/",
     "height": 116
    },
    "id": "8bH_pnOYR6iy",
    "outputId": "dcc9bb45-21ac-4bc8-eb2f-1a0cd0e2b2da"
   },
   "outputs": [],
   "source": [
    "#DT GRid search\n",
    "dt_param_grid={\n",
    "    'criterion': ['gini', 'entropy'],\n",
    "    'max_depth': range(3,10),\n",
    "}\n",
    "\n",
    "dt_grid=GridSearchCV(DecisionTreeClassifier(),dt_param_grid,cv=5,return_train_score=True)\n",
    "dt_grid.fit(X_train, y_train)\n"
   ]
  },
  {
   "cell_type": "code",
   "execution_count": null,
   "metadata": {
    "colab": {
     "base_uri": "https://localhost:8080/"
    },
    "id": "MK2OQyY2R6iy",
    "outputId": "9dd02ddb-8f50-461c-c00b-b7168896169f"
   },
   "outputs": [],
   "source": [
    "bestParams=dt_grid.best_params_\n",
    "bestScore=dt_grid.best_score_\n",
    "print(bestParams,'\\n', bestScore)"
   ]
  },
  {
   "cell_type": "code",
   "execution_count": null,
   "metadata": {
    "colab": {
     "base_uri": "https://localhost:8080/",
     "height": 488
    },
    "id": "aWjpZ5ySR6iy",
    "outputId": "2464c710-bed0-4b1d-c5e0-2c8805363f5a"
   },
   "outputs": [],
   "source": [
    "train_scores = pd.DataFrame(dt_grid.cv_results_)\n",
    "score_result=train_scores.loc[:,['params','param_max_depth','mean_train_score','mean_test_score']]\n",
    "score_result"
   ]
  },
  {
   "cell_type": "code",
   "execution_count": null,
   "metadata": {
    "colab": {
     "base_uri": "https://localhost:8080/",
     "height": 368
    },
    "id": "SJOsOs5cR6iy",
    "outputId": "18b6e162-9154-4289-ee2d-a4cea77dc1d0"
   },
   "outputs": [],
   "source": [
    "source = score_result.melt(id_vars=['param_max_depth'] ,\n",
    "                              value_vars=['mean_train_score', 'mean_test_score'],\n",
    "                              var_name='score_type', value_name='accuracy')\n",
    "chart3dt = alt.Chart(source).mark_line().encode(\n",
    "    alt.X('param_max_depth:Q', axis=alt.Axis(title=\"Tree Depth\")),\n",
    "    alt.Y('accuracy:Q'),\n",
    "    alt.Color('score_type:N', scale=alt.Scale(domain=['mean_train_score', 'mean_test_score'],\n",
    "                                           range=['teal', 'gold'])))\n",
    "chart3dt"
   ]
  },
  {
   "cell_type": "code",
   "execution_count": null,
   "metadata": {
    "colab": {
     "base_uri": "https://localhost:8080/"
    },
    "id": "TvhURi19R6iy",
    "outputId": "02c013f7-70da-4a9e-b260-eeffc000e249"
   },
   "outputs": [],
   "source": [
    "best_dt=DecisionTreeClassifier(criterion= 'gini', max_depth=5)\n",
    "best_dt.fit(X_train, y_train)\n",
    "dt_acc=dtree.score(X_test,y_test)\n",
    "print(dt_acc)"
   ]
  },
  {
   "cell_type": "code",
   "execution_count": null,
   "metadata": {
    "colab": {
     "base_uri": "https://localhost:8080/"
    },
    "id": "g90lDgYPR6iy",
    "outputId": "d0556dca-1631-4fa4-feb8-7e5a2d933ba3"
   },
   "outputs": [],
   "source": [
    "from sklearn.metrics import roc_auc_score\n",
    "y_pred = dtree.predict(X_test)\n",
    "print(classification_report(y_pred, y_test))\n",
    "#accuracy = accuracy_score(y_test, y_pred)\n",
    "#print(\"Accuracy:\", accuracy)\n",
    "y_pred_prob = best_dt.predict_proba(X_test)[:, 1]\n",
    "auc = roc_auc_score(y_test, y_pred_prob)\n",
    "print('Decisiontree AUC:',auc)"
   ]
  },
  {
   "cell_type": "markdown",
   "metadata": {
    "id": "X72Eaq9KR6iy"
   },
   "source": [
    "## LG"
   ]
  },
  {
   "cell_type": "code",
   "execution_count": null,
   "metadata": {
    "colab": {
     "base_uri": "https://localhost:8080/"
    },
    "id": "EyW-FjONR6iz",
    "outputId": "a3e8e610-2e0c-4f4e-9177-31f743704a25"
   },
   "outputs": [],
   "source": [
    "#Logistic Regression\n",
    "\n",
    "sc = StandardScaler()\n",
    "sc.fit(X_train)\n",
    "X_train_std = sc.transform(X_train)\n",
    "X_test_std = sc.transform(X_test)\n",
    "lr=LogisticRegression(C=5,max_iter=100)\n",
    "\n",
    "lr_scores = cross_val_score(lr, X_train_std, y_train, cv=5)\n",
    "lr_auc_scores = cross_val_score(lr, X_train_std, y_train, scoring='roc_auc',cv=5)\n",
    "print('Acc',lr_scores)\n",
    "print('AUC',lr_auc_scores)\n",
    "#lr.score(X_test,y_test)"
   ]
  },
  {
   "cell_type": "code",
   "execution_count": null,
   "metadata": {
    "colab": {
     "base_uri": "https://localhost:8080/"
    },
    "id": "lH8S9QlIR6iz",
    "outputId": "cfea0121-7a40-465b-b4f9-5bff5f372ca5"
   },
   "outputs": [],
   "source": [
    "lr.fit(X_train_std,y_train)\n",
    "lr_acc=lr.score(X_test_std,y_test)\n",
    "print(lr_acc)\n"
   ]
  },
  {
   "cell_type": "code",
   "execution_count": null,
   "metadata": {
    "colab": {
     "base_uri": "https://localhost:8080/"
    },
    "id": "k9m4GnKoR6iz",
    "outputId": "768ee93e-ec10-4b4b-fec5-f85fe3057e07"
   },
   "outputs": [],
   "source": [
    "from sklearn.metrics import roc_auc_score\n",
    "y_pred = lr.predict(X_test_std)\n",
    "print(classification_report(y_pred, y_test))\n",
    "#accuracy = accuracy_score(y_test, y_pred)\n",
    "#print(\"Accuracy:\", accuracy)\n",
    "y_pred_prob = lr.predict_proba(X_test_std)[:, 1]\n",
    "auc = roc_auc_score(y_test, y_pred_prob)\n",
    "print('Logistic AUC:',auc)"
   ]
  },
  {
   "cell_type": "markdown",
   "metadata": {
    "id": "slh13wWeTN1h"
   },
   "source": [
    "# Dataset4"
   ]
  },
  {
   "cell_type": "code",
   "execution_count": null,
   "metadata": {
    "colab": {
     "base_uri": "https://localhost:8080/"
    },
    "id": "87zBr20STQ_h",
    "outputId": "b3e50530-7221-431c-f589-ee46ce0aaa2b"
   },
   "outputs": [],
   "source": [
    "df4=df4[df4[\"education\"].str.contains(\"unknown\") == False]\n",
    "\n",
    "df4.replace({'yes':1,'no':0},inplace=True)\n",
    "y=df4['y']\n",
    "print(y)\n",
    "\n",
    "df4=df4.drop(columns=['poutcome'])\n",
    "df4x=df4.drop(columns=['y'])\n",
    "print(df4x)\n",
    "\n",
    "#classify job\n",
    "df4x=df4x.replace({'job':{'unknown':0, \"student\":0,'retired':0,\"unemployed\":0}})\n",
    "\n",
    "df4x['job']=[1 if a!=0 else 0 for a in df4x['job'] ]\n",
    "df4x['job'].value_counts()\n",
    "print(df4x)\n",
    "\n",
    "mon_num=pd.to_datetime(df4x.month, format='%b').dt.month\n",
    "mon_num\n",
    "df4x['month']=mon_num\n",
    "\n",
    "rp = df4x.replace({'contact' : {'unknown' : 0, 'cellular' : 0, 'telephone' : 1}})\n",
    "print(rp)\n",
    "\n",
    "dummyList=['marital','education']\n",
    "X4=dummy_df(rp, dummyList)\n",
    "#dummies=pd.get_dummies(rp['education'])\n",
    "print(X4)\n",
    "X_train, X_test, y_train, y_test = train_test_split(X4, y, test_size=0.3, random_state=33151938)\n",
    "print(X_train)\n"
   ]
  },
  {
   "cell_type": "markdown",
   "metadata": {
    "id": "gQhNaMiNW5kJ"
   },
   "source": [
    "## RF"
   ]
  },
  {
   "cell_type": "code",
   "execution_count": null,
   "metadata": {
    "colab": {
     "base_uri": "https://localhost:8080/",
     "height": 74
    },
    "id": "gmsB2tsfXQZ-",
    "outputId": "ad206572-9fda-45d7-b8fc-65b8f4206902"
   },
   "outputs": [],
   "source": [
    "rf_grid=RandomForestClassifier(max_depth=6, max_features='sqrt', n_estimators= 100)\n",
    "rf_grid.fit(X_train, y_train)\n"
   ]
  },
  {
   "cell_type": "code",
   "execution_count": null,
   "metadata": {
    "colab": {
     "base_uri": "https://localhost:8080/"
    },
    "id": "hal-1r6DXQZ_",
    "outputId": "2c136952-2817-4391-a83e-5b1bee0412f6"
   },
   "outputs": [],
   "source": [
    "# predict the mode\n",
    "y_pred_grid = rf_grid.predict(X_test)\n",
    "print(classification_report(y_pred_grid, y_test))\n",
    "y_pred_prob = rf_grid.predict_proba(X_test)[:, 1]\n",
    "auc = roc_auc_score(y_test, y_pred_prob)\n",
    "print('RandomForest AUC:',auc)"
   ]
  },
  {
   "cell_type": "markdown",
   "metadata": {
    "id": "gHuXBDHEXQZ_"
   },
   "source": [
    "## DT"
   ]
  },
  {
   "cell_type": "code",
   "execution_count": null,
   "metadata": {
    "colab": {
     "base_uri": "https://localhost:8080/"
    },
    "id": "rHPSaOLmXQZ_",
    "outputId": "2888a479-5010-4503-ec3a-9cdcabed9c9b"
   },
   "outputs": [],
   "source": [
    "#Decision Tree\n",
    "from sklearn.tree import DecisionTreeClassifier\n",
    "\n",
    "dtree = DecisionTreeClassifier()\n",
    "dtree = dtree.fit(X_train, y_train)\n",
    "\n",
    "cv_scores = cross_val_score(dtree, X_train, y_train, cv=5)\n",
    "# Print the accuracy scores for each fold\n",
    "print(\"Cross-validation scores:\", cv_scores)\n",
    "# Calculate the mean accuracy across all folds\n",
    "mean_accuracy = cv_scores.mean()\n",
    "print(\"Mean accuracy:\", mean_accuracy)"
   ]
  },
  {
   "cell_type": "code",
   "execution_count": null,
   "metadata": {
    "colab": {
     "base_uri": "https://localhost:8080/"
    },
    "id": "ecYFIeMFXQZ_",
    "outputId": "69aa26e7-668e-4165-ef79-97ecbb8e7f7e"
   },
   "outputs": [],
   "source": [
    "best_dt=DecisionTreeClassifier(criterion= 'gini', max_depth=5)\n",
    "best_dt.fit(X_train, y_train)\n",
    "dt_acc=dtree.score(X_test,y_test)\n",
    "print(dt_acc)"
   ]
  },
  {
   "cell_type": "code",
   "execution_count": null,
   "metadata": {
    "colab": {
     "base_uri": "https://localhost:8080/"
    },
    "id": "gjGLPifgXQZ_",
    "outputId": "41e34d51-d6ad-4870-ade5-aa2f561503e6"
   },
   "outputs": [],
   "source": [
    "from sklearn.metrics import roc_auc_score\n",
    "y_pred = dtree.predict(X_test)\n",
    "print(classification_report(y_pred, y_test))\n",
    "#accuracy = accuracy_score(y_test, y_pred)\n",
    "#print(\"Accuracy:\", accuracy)\n",
    "y_pred_prob = best_dt.predict_proba(X_test)[:, 1]\n",
    "auc = roc_auc_score(y_test, y_pred_prob)\n",
    "print('Decisiontree AUC:',auc)"
   ]
  },
  {
   "cell_type": "markdown",
   "metadata": {
    "id": "AW2ZoxeNXnA8"
   },
   "source": [
    "## LR"
   ]
  },
  {
   "cell_type": "code",
   "execution_count": null,
   "metadata": {
    "colab": {
     "base_uri": "https://localhost:8080/"
    },
    "id": "HIh5K7I3X1CA",
    "outputId": "96107677-6783-41a5-dd18-980045937779"
   },
   "outputs": [],
   "source": [
    "#Logistic Regression\n",
    "\n",
    "sc = StandardScaler()\n",
    "sc.fit(X_train)\n",
    "X_train_std = sc.transform(X_train)\n",
    "X_test_std = sc.transform(X_test)\n",
    "lr=LogisticRegression(C=5,max_iter=100)\n",
    "\n",
    "lr_scores = cross_val_score(lr, X_train_std, y_train, cv=5)\n",
    "lr_auc_scores = cross_val_score(lr, X_train_std, y_train, scoring='roc_auc',cv=5)\n",
    "print('Acc',lr_scores)\n",
    "print('AUC',lr_auc_scores)\n",
    "#lr.score(X_test,y_test)"
   ]
  },
  {
   "cell_type": "code",
   "execution_count": null,
   "metadata": {
    "colab": {
     "base_uri": "https://localhost:8080/"
    },
    "id": "om3T4KbgX1CN",
    "outputId": "914c76bc-9d9c-45d2-9e26-1c958c379d4a"
   },
   "outputs": [],
   "source": [
    "lr.fit(X_train_std,y_train)\n",
    "lr_acc=lr.score(X_test_std,y_test)\n",
    "print(lr_acc)\n"
   ]
  },
  {
   "cell_type": "code",
   "execution_count": null,
   "metadata": {
    "colab": {
     "base_uri": "https://localhost:8080/"
    },
    "id": "PnmmHoqHX1CN",
    "outputId": "29daabd8-7d74-44e4-f87c-490aeb4fc225"
   },
   "outputs": [],
   "source": [
    "from sklearn.metrics import roc_auc_score\n",
    "y_pred = lr.predict(X_test_std)\n",
    "print(classification_report(y_pred, y_test))\n",
    "#accuracy = accuracy_score(y_test, y_pred)\n",
    "#print(\"Accuracy:\", accuracy)\n",
    "y_pred_prob = lr.predict_proba(X_test_std)[:, 1]\n",
    "auc = roc_auc_score(y_test, y_pred_prob)\n",
    "print('Logistic AUC:',auc)"
   ]
  },
  {
   "cell_type": "code",
   "execution_count": null,
   "metadata": {
    "id": "gMWUln0wcgdi"
   },
   "outputs": [],
   "source": [
    "rf_auc=[0.899985253373849,0.888862995403576,0.888364878244099,0.887140605579752]\n",
    "dt_auc=[0.847997587,0.837933711,0.832224335,0.849518883]\n",
    "lr_auc=[0.858133881,0.8603328,0.85890189,0.842868112]"
   ]
  },
  {
   "cell_type": "code",
   "execution_count": null,
   "metadata": {
    "colab": {
     "base_uri": "https://localhost:8080/"
    },
    "id": "P-r6rFQtd13m",
    "outputId": "d1b38192-80a0-473f-d61b-153173494ea5"
   },
   "outputs": [],
   "source": [
    "from scipy import stats\n",
    "print(stats.ttest_ind(rf_auc, dt_auc))\n",
    "print(stats.ttest_ind(rf_auc, lr_auc))\n",
    "print(stats.ttest_ind(dt_auc, lr_auc))"
   ]
  },
  {
   "cell_type": "code",
   "execution_count": null,
   "metadata": {
    "colab": {
     "base_uri": "https://localhost:8080/"
    },
    "id": "326uJZ2Sd22f",
    "outputId": "a2b4223d-9f60-4ece-96bc-7d2c526a8c9f"
   },
   "outputs": [],
   "source": [
    "from scipy.stats import ranksums\n",
    "print(ranksums(rf_auc, dt_auc))\n",
    "print(ranksums(rf_auc, lr_auc))\n",
    "print(ranksums(dt_auc,lr_auc))"
   ]
  },
  {
   "cell_type": "code",
   "execution_count": null,
   "metadata": {
    "id": "Z9TX7zfQt4VQ"
   },
   "outputs": [],
   "source": []
  }
 ],
 "metadata": {
  "colab": {
   "provenance": [],
   "toc_visible": true
  },
  "kernelspec": {
   "display_name": "Python 3 (ipykernel)",
   "language": "python",
   "name": "python3"
  },
  "language_info": {
   "codemirror_mode": {
    "name": "ipython",
    "version": 3
   },
   "file_extension": ".py",
   "mimetype": "text/x-python",
   "name": "python",
   "nbconvert_exporter": "python",
   "pygments_lexer": "ipython3",
   "version": "3.9.12"
  }
 },
 "nbformat": 4,
 "nbformat_minor": 1
}
